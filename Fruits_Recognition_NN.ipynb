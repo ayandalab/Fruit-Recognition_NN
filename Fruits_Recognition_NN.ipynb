{
  "nbformat": 4,
  "nbformat_minor": 0,
  "metadata": {
    "colab": {
      "name": "Fruits_Recognition_NN.ipynb",
      "provenance": [],
      "authorship_tag": "ABX9TyPUo3rrxsy1DNk56v4aXkUJ",
      "include_colab_link": true
    },
    "kernelspec": {
      "name": "python3",
      "display_name": "Python 3"
    },
    "language_info": {
      "name": "python"
    }
  },
  "cells": [
    {
      "cell_type": "markdown",
      "metadata": {
        "id": "view-in-github",
        "colab_type": "text"
      },
      "source": [
        "<a href=\"https://colab.research.google.com/github/ayandalab/Fruit-Recognition_NN/blob/main/Fruits_Recognition_NN.ipynb\" target=\"_parent\"><img src=\"https://colab.research.google.com/assets/colab-badge.svg\" alt=\"Open In Colab\"/></a>"
      ]
    },
    {
      "cell_type": "code",
      "metadata": {
        "colab": {
          "base_uri": "https://localhost:8080/"
        },
        "id": "1LQSSi7UEQYt",
        "outputId": "0a6a27fd-7546-41dd-93ff-787e36f41bac"
      },
      "source": [
        "from google_drive_downloader import GoogleDriveDownloader as gdd\n",
        "\n",
        "gdd.download_file_from_google_drive(file_id='101lHWlBKAsXjPkVBTz1_Ge9S2rwVPTUU',\n",
        "dest_path='content/fruits_data.zip',\n",
        "unzip=True)"
      ],
      "execution_count": 1,
      "outputs": [
        {
          "output_type": "stream",
          "text": [
            "Downloading 101lHWlBKAsXjPkVBTz1_Ge9S2rwVPTUU into content/fruits_data.zip... Done.\n",
            "Unzipping...Done.\n"
          ],
          "name": "stdout"
        }
      ]
    },
    {
      "cell_type": "code",
      "metadata": {
        "id": "J4s2LyzTETEQ"
      },
      "source": [
        "import pandas as pd # Data analysis and manipultion tool\n",
        "import numpy as np # Fundamental package for linear algebra and multidimensional arrays\n",
        "import tensorflow as tf # Deep Learning Tool\n",
        "import os # OS module in Python provides a way of using operating system dependent functionality\n",
        "import cv2 # Library for image processing\n",
        "from sklearn.model_selection import train_test_split # For splitting the data into train and validation set"
      ],
      "execution_count": 2,
      "outputs": []
    },
    {
      "cell_type": "code",
      "metadata": {
        "colab": {
          "base_uri": "https://localhost:8080/",
          "height": 206
        },
        "id": "YKTwyg87Ei5h",
        "outputId": "3dedd61c-24f1-447d-f33d-54dbe6e61204"
      },
      "source": [
        "labels = pd.read_csv(\"/content/content/fruits_data/Training_set.csv\") # loading the labels\n",
        "labels.head() # will display the first five rows in labels dataframe"
      ],
      "execution_count": 3,
      "outputs": [
        {
          "output_type": "execute_result",
          "data": {
            "text/html": [
              "<div>\n",
              "<style scoped>\n",
              "    .dataframe tbody tr th:only-of-type {\n",
              "        vertical-align: middle;\n",
              "    }\n",
              "\n",
              "    .dataframe tbody tr th {\n",
              "        vertical-align: top;\n",
              "    }\n",
              "\n",
              "    .dataframe thead th {\n",
              "        text-align: right;\n",
              "    }\n",
              "</style>\n",
              "<table border=\"1\" class=\"dataframe\">\n",
              "  <thead>\n",
              "    <tr style=\"text-align: right;\">\n",
              "      <th></th>\n",
              "      <th>filename</th>\n",
              "      <th>label</th>\n",
              "    </tr>\n",
              "  </thead>\n",
              "  <tbody>\n",
              "    <tr>\n",
              "      <th>0</th>\n",
              "      <td>Image_1.jpg</td>\n",
              "      <td>Pear 2</td>\n",
              "    </tr>\n",
              "    <tr>\n",
              "      <th>1</th>\n",
              "      <td>Image_2.jpg</td>\n",
              "      <td>Tomato Heart</td>\n",
              "    </tr>\n",
              "    <tr>\n",
              "      <th>2</th>\n",
              "      <td>Image_3.jpg</td>\n",
              "      <td>Plum 3</td>\n",
              "    </tr>\n",
              "    <tr>\n",
              "      <th>3</th>\n",
              "      <td>Image_4.jpg</td>\n",
              "      <td>Pear Stone</td>\n",
              "    </tr>\n",
              "    <tr>\n",
              "      <th>4</th>\n",
              "      <td>Image_5.jpg</td>\n",
              "      <td>Cherry 2</td>\n",
              "    </tr>\n",
              "  </tbody>\n",
              "</table>\n",
              "</div>"
            ],
            "text/plain": [
              "      filename         label\n",
              "0  Image_1.jpg        Pear 2\n",
              "1  Image_2.jpg  Tomato Heart\n",
              "2  Image_3.jpg        Plum 3\n",
              "3  Image_4.jpg    Pear Stone\n",
              "4  Image_5.jpg      Cherry 2"
            ]
          },
          "metadata": {
            "tags": []
          },
          "execution_count": 3
        }
      ]
    },
    {
      "cell_type": "code",
      "metadata": {
        "colab": {
          "base_uri": "https://localhost:8080/",
          "height": 206
        },
        "id": "7ARY0hBjEoMJ",
        "outputId": "e588dd23-3eed-43a1-d448-8d14859d02a2"
      },
      "source": [
        "labels.tail() # will display the last five rows in labels dataframe"
      ],
      "execution_count": 4,
      "outputs": [
        {
          "output_type": "execute_result",
          "data": {
            "text/html": [
              "<div>\n",
              "<style scoped>\n",
              "    .dataframe tbody tr th:only-of-type {\n",
              "        vertical-align: middle;\n",
              "    }\n",
              "\n",
              "    .dataframe tbody tr th {\n",
              "        vertical-align: top;\n",
              "    }\n",
              "\n",
              "    .dataframe thead th {\n",
              "        text-align: right;\n",
              "    }\n",
              "</style>\n",
              "<table border=\"1\" class=\"dataframe\">\n",
              "  <thead>\n",
              "    <tr style=\"text-align: right;\">\n",
              "      <th></th>\n",
              "      <th>filename</th>\n",
              "      <th>label</th>\n",
              "    </tr>\n",
              "  </thead>\n",
              "  <tbody>\n",
              "    <tr>\n",
              "      <th>47379</th>\n",
              "      <td>Image_47380.jpg</td>\n",
              "      <td>Grape Pink</td>\n",
              "    </tr>\n",
              "    <tr>\n",
              "      <th>47380</th>\n",
              "      <td>Image_47381.jpg</td>\n",
              "      <td>Melon Piel de Sapo</td>\n",
              "    </tr>\n",
              "    <tr>\n",
              "      <th>47381</th>\n",
              "      <td>Image_47382.jpg</td>\n",
              "      <td>Grape White 3</td>\n",
              "    </tr>\n",
              "    <tr>\n",
              "      <th>47382</th>\n",
              "      <td>Image_47383.jpg</td>\n",
              "      <td>Avocado</td>\n",
              "    </tr>\n",
              "    <tr>\n",
              "      <th>47383</th>\n",
              "      <td>Image_47384.jpg</td>\n",
              "      <td>Pear Abate</td>\n",
              "    </tr>\n",
              "  </tbody>\n",
              "</table>\n",
              "</div>"
            ],
            "text/plain": [
              "              filename               label\n",
              "47379  Image_47380.jpg          Grape Pink\n",
              "47380  Image_47381.jpg  Melon Piel de Sapo\n",
              "47381  Image_47382.jpg       Grape White 3\n",
              "47382  Image_47383.jpg             Avocado\n",
              "47383  Image_47384.jpg          Pear Abate"
            ]
          },
          "metadata": {
            "tags": []
          },
          "execution_count": 4
        }
      ]
    },
    {
      "cell_type": "code",
      "metadata": {
        "id": "L7cxd1EYEsfs"
      },
      "source": [
        "file_paths = [[fname, '/content/content/fruits_data/train/' + fname] for fname in labels['filename']]"
      ],
      "execution_count": 5,
      "outputs": []
    },
    {
      "cell_type": "code",
      "metadata": {
        "colab": {
          "base_uri": "https://localhost:8080/"
        },
        "id": "J_vYeNSLEymT",
        "outputId": "74fee88f-3543-48e0-9470-c83282652199"
      },
      "source": [
        "# Confirm if number of images is same as number of labels given\n",
        "if len(labels) == len(file_paths):\n",
        "    print('Number of labels i.e. ', len(labels), 'matches the number of filenames i.e. ', len(file_paths))\n",
        "else:\n",
        "    print('Number of labels does not match the number of filenames')"
      ],
      "execution_count": 6,
      "outputs": [
        {
          "output_type": "stream",
          "text": [
            "Number of labels i.e.  47384 matches the number of filenames i.e.  47384\n"
          ],
          "name": "stdout"
        }
      ]
    },
    {
      "cell_type": "code",
      "metadata": {
        "colab": {
          "base_uri": "https://localhost:8080/",
          "height": 206
        },
        "id": "ZXO9_01eFMnn",
        "outputId": "ad502f9e-45c2-4144-e33a-2126faeef14e"
      },
      "source": [
        "images = pd.DataFrame(file_paths, columns=['filename', 'filepaths'])\n",
        "images.head()"
      ],
      "execution_count": 7,
      "outputs": [
        {
          "output_type": "execute_result",
          "data": {
            "text/html": [
              "<div>\n",
              "<style scoped>\n",
              "    .dataframe tbody tr th:only-of-type {\n",
              "        vertical-align: middle;\n",
              "    }\n",
              "\n",
              "    .dataframe tbody tr th {\n",
              "        vertical-align: top;\n",
              "    }\n",
              "\n",
              "    .dataframe thead th {\n",
              "        text-align: right;\n",
              "    }\n",
              "</style>\n",
              "<table border=\"1\" class=\"dataframe\">\n",
              "  <thead>\n",
              "    <tr style=\"text-align: right;\">\n",
              "      <th></th>\n",
              "      <th>filename</th>\n",
              "      <th>filepaths</th>\n",
              "    </tr>\n",
              "  </thead>\n",
              "  <tbody>\n",
              "    <tr>\n",
              "      <th>0</th>\n",
              "      <td>Image_1.jpg</td>\n",
              "      <td>/content/content/fruits_data/train/Image_1.jpg</td>\n",
              "    </tr>\n",
              "    <tr>\n",
              "      <th>1</th>\n",
              "      <td>Image_2.jpg</td>\n",
              "      <td>/content/content/fruits_data/train/Image_2.jpg</td>\n",
              "    </tr>\n",
              "    <tr>\n",
              "      <th>2</th>\n",
              "      <td>Image_3.jpg</td>\n",
              "      <td>/content/content/fruits_data/train/Image_3.jpg</td>\n",
              "    </tr>\n",
              "    <tr>\n",
              "      <th>3</th>\n",
              "      <td>Image_4.jpg</td>\n",
              "      <td>/content/content/fruits_data/train/Image_4.jpg</td>\n",
              "    </tr>\n",
              "    <tr>\n",
              "      <th>4</th>\n",
              "      <td>Image_5.jpg</td>\n",
              "      <td>/content/content/fruits_data/train/Image_5.jpg</td>\n",
              "    </tr>\n",
              "  </tbody>\n",
              "</table>\n",
              "</div>"
            ],
            "text/plain": [
              "      filename                                       filepaths\n",
              "0  Image_1.jpg  /content/content/fruits_data/train/Image_1.jpg\n",
              "1  Image_2.jpg  /content/content/fruits_data/train/Image_2.jpg\n",
              "2  Image_3.jpg  /content/content/fruits_data/train/Image_3.jpg\n",
              "3  Image_4.jpg  /content/content/fruits_data/train/Image_4.jpg\n",
              "4  Image_5.jpg  /content/content/fruits_data/train/Image_5.jpg"
            ]
          },
          "metadata": {
            "tags": []
          },
          "execution_count": 7
        }
      ]
    },
    {
      "cell_type": "code",
      "metadata": {
        "colab": {
          "base_uri": "https://localhost:8080/",
          "height": 206
        },
        "id": "z_9ezKTKFTvc",
        "outputId": "01152472-664f-4ec5-d538-d86b6bc13d7f"
      },
      "source": [
        "train_data = pd.merge(images, labels, how = 'inner', on = 'filename')\n",
        "train_data.head()"
      ],
      "execution_count": 8,
      "outputs": [
        {
          "output_type": "execute_result",
          "data": {
            "text/html": [
              "<div>\n",
              "<style scoped>\n",
              "    .dataframe tbody tr th:only-of-type {\n",
              "        vertical-align: middle;\n",
              "    }\n",
              "\n",
              "    .dataframe tbody tr th {\n",
              "        vertical-align: top;\n",
              "    }\n",
              "\n",
              "    .dataframe thead th {\n",
              "        text-align: right;\n",
              "    }\n",
              "</style>\n",
              "<table border=\"1\" class=\"dataframe\">\n",
              "  <thead>\n",
              "    <tr style=\"text-align: right;\">\n",
              "      <th></th>\n",
              "      <th>filename</th>\n",
              "      <th>filepaths</th>\n",
              "      <th>label</th>\n",
              "    </tr>\n",
              "  </thead>\n",
              "  <tbody>\n",
              "    <tr>\n",
              "      <th>0</th>\n",
              "      <td>Image_1.jpg</td>\n",
              "      <td>/content/content/fruits_data/train/Image_1.jpg</td>\n",
              "      <td>Pear 2</td>\n",
              "    </tr>\n",
              "    <tr>\n",
              "      <th>1</th>\n",
              "      <td>Image_2.jpg</td>\n",
              "      <td>/content/content/fruits_data/train/Image_2.jpg</td>\n",
              "      <td>Tomato Heart</td>\n",
              "    </tr>\n",
              "    <tr>\n",
              "      <th>2</th>\n",
              "      <td>Image_3.jpg</td>\n",
              "      <td>/content/content/fruits_data/train/Image_3.jpg</td>\n",
              "      <td>Plum 3</td>\n",
              "    </tr>\n",
              "    <tr>\n",
              "      <th>3</th>\n",
              "      <td>Image_4.jpg</td>\n",
              "      <td>/content/content/fruits_data/train/Image_4.jpg</td>\n",
              "      <td>Pear Stone</td>\n",
              "    </tr>\n",
              "    <tr>\n",
              "      <th>4</th>\n",
              "      <td>Image_5.jpg</td>\n",
              "      <td>/content/content/fruits_data/train/Image_5.jpg</td>\n",
              "      <td>Cherry 2</td>\n",
              "    </tr>\n",
              "  </tbody>\n",
              "</table>\n",
              "</div>"
            ],
            "text/plain": [
              "      filename                                       filepaths         label\n",
              "0  Image_1.jpg  /content/content/fruits_data/train/Image_1.jpg        Pear 2\n",
              "1  Image_2.jpg  /content/content/fruits_data/train/Image_2.jpg  Tomato Heart\n",
              "2  Image_3.jpg  /content/content/fruits_data/train/Image_3.jpg        Plum 3\n",
              "3  Image_4.jpg  /content/content/fruits_data/train/Image_4.jpg    Pear Stone\n",
              "4  Image_5.jpg  /content/content/fruits_data/train/Image_5.jpg      Cherry 2"
            ]
          },
          "metadata": {
            "tags": []
          },
          "execution_count": 8
        }
      ]
    },
    {
      "cell_type": "code",
      "metadata": {
        "id": "EolEU8LzFYB6"
      },
      "source": [
        "from sklearn.preprocessing import LabelEncoder\n",
        "le = LabelEncoder()\n",
        "train_data['label'] = le.fit_transform(train_data['label'])"
      ],
      "execution_count": 9,
      "outputs": []
    },
    {
      "cell_type": "code",
      "metadata": {
        "id": "Amr9CI3IF1L7"
      },
      "source": [
        "data = [] # initialize an empty numpy array\n",
        "image_size = 100 # image size taken is 100 here. one can take other size too\n",
        "for i in range(len(train_data)):\n",
        "\n",
        "    img_array = cv2.imread(train_data['filepaths'][i], cv2.IMREAD_GRAYSCALE) # converting the image to gray scale\n",
        "\n",
        "    new_img_array = cv2.resize(img_array, (image_size, image_size)) # resizing the image array\n",
        "    data.append([new_img_array, train_data['label'][i]])"
      ],
      "execution_count": 10,
      "outputs": []
    },
    {
      "cell_type": "code",
      "metadata": {
        "colab": {
          "base_uri": "https://localhost:8080/"
        },
        "id": "pHOfVkYNG1jw",
        "outputId": "fd242752-bd54-4cb6-b81a-6678d298c162"
      },
      "source": [
        "# image pixels of a image\n",
        "data[5]"
      ],
      "execution_count": 11,
      "outputs": [
        {
          "output_type": "execute_result",
          "data": {
            "text/plain": [
              "[array([[255, 255, 255, ..., 255, 255, 255],\n",
              "        [255, 255, 255, ..., 255, 255, 255],\n",
              "        [255, 255, 255, ..., 255, 255, 255],\n",
              "        ...,\n",
              "        [255, 255, 255, ..., 255, 255, 255],\n",
              "        [255, 255, 255, ..., 255, 255, 255],\n",
              "        [255, 255, 255, ..., 255, 255, 255]], dtype=uint8), 124]"
            ]
          },
          "metadata": {
            "tags": []
          },
          "execution_count": 11
        }
      ]
    },
    {
      "cell_type": "code",
      "metadata": {
        "id": "VUTBB2HKG8c5"
      },
      "source": [
        "np.random.shuffle(data)"
      ],
      "execution_count": 12,
      "outputs": []
    },
    {
      "cell_type": "code",
      "metadata": {
        "id": "5f9DeV6mHBAB"
      },
      "source": [
        "x = []\n",
        "y = []\n",
        "for image in data:\n",
        "    x.append(image[0])\n",
        "    y.append(image[1])\n",
        "\n",
        "# converting x & y to numpy array as they are list\n",
        "x = np.array(x)\n",
        "y = np.array(y)"
      ],
      "execution_count": 13,
      "outputs": []
    },
    {
      "cell_type": "code",
      "metadata": {
        "colab": {
          "base_uri": "https://localhost:8080/"
        },
        "id": "2FsdjObKHH-I",
        "outputId": "c07ce120-a67d-4e13-b910-c03ccf0536d5"
      },
      "source": [
        "np.unique(y, return_counts=True)"
      ],
      "execution_count": 14,
      "outputs": [
        {
          "output_type": "execute_result",
          "data": {
            "text/plain": [
              "(array([  0,   1,   2,   3,   4,   5,   6,   7,   8,   9,  10,  11,  12,\n",
              "         13,  14,  15,  16,  17,  18,  19,  20,  21,  22,  23,  24,  25,\n",
              "         26,  27,  28,  29,  30,  31,  32,  33,  34,  35,  36,  37,  38,\n",
              "         39,  40,  41,  42,  43,  44,  45,  46,  47,  48,  49,  50,  51,\n",
              "         52,  53,  54,  55,  56,  57,  58,  59,  60,  61,  62,  63,  64,\n",
              "         65,  66,  67,  68,  69,  70,  71,  72,  73,  74,  75,  76,  77,\n",
              "         78,  79,  80,  81,  82,  83,  84,  85,  86,  87,  88,  89,  90,\n",
              "         91,  92,  93,  94,  95,  96,  97,  98,  99, 100, 101, 102, 103,\n",
              "        104, 105, 106, 107, 108, 109, 110, 111, 112, 113, 114, 115, 116,\n",
              "        117, 118, 119, 120, 121, 122, 123, 124, 125, 126, 127, 128, 129,\n",
              "        130]),\n",
              " array([344, 311, 336, 345, 337, 344, 319, 345, 344, 300, 343, 344, 470,\n",
              "        345, 299, 344, 343, 315, 343, 315, 324, 343, 344, 344, 343, 491,\n",
              "        344, 517, 517, 344, 344, 344, 315, 343, 343, 315, 324, 275, 328,\n",
              "        343, 328, 491, 208, 343, 689, 344, 343, 343, 344, 330, 343, 344,\n",
              "        343, 325, 343, 343, 326, 330, 343, 344, 343, 343, 343, 343, 343,\n",
              "        298, 210, 343, 517, 344, 344, 336, 458, 374, 315, 312, 307, 335,\n",
              "        345, 343, 344, 517, 344, 345, 487, 343, 491, 210, 343, 466, 498,\n",
              "        343, 343, 311, 491, 466, 466, 344, 344, 343, 345, 343, 313, 294,\n",
              "        630, 344, 315, 315, 317, 315, 315, 343, 344, 343, 345, 343, 344,\n",
              "        517, 343, 343, 517, 470, 517, 335, 344, 479, 257, 321, 332, 515,\n",
              "        333]))"
            ]
          },
          "metadata": {
            "tags": []
          },
          "execution_count": 14
        }
      ]
    },
    {
      "cell_type": "code",
      "metadata": {
        "id": "-Z6q9lDhHMOh"
      },
      "source": [
        "x = x.reshape(-1, 100, 100, 1)"
      ],
      "execution_count": 15,
      "outputs": []
    },
    {
      "cell_type": "code",
      "metadata": {
        "id": "CRojoTs4HXwh"
      },
      "source": [
        "# split the data\n",
        "X_train, X_val, y_train, y_val = train_test_split(x,y,test_size=0.3, random_state = 42)"
      ],
      "execution_count": 16,
      "outputs": []
    },
    {
      "cell_type": "code",
      "metadata": {
        "id": "anpjSY2YHcUi"
      },
      "source": [
        "cnn = tf.keras.models.Sequential([\n",
        "tf.keras.layers.Conv2D(filters=32, kernel_size=(3, 3), activation='relu', input_shape=(100, 100, 1)),\n",
        "tf.keras.layers.MaxPooling2D((2, 2)),\n",
        "\n",
        "tf.keras.layers.Conv2D(filters=64, kernel_size=(3, 3), activation='relu'),\n",
        "tf.keras.layers.MaxPooling2D((2, 2)),\n",
        "\n",
        "# tf.keras.layers.Flatten(input_shape=(100, 100, 1)),\n",
        "tf.keras.layers.Flatten(),\n",
        "tf.keras.layers.Dense(64, activation='relu'),\n",
        "tf.keras.layers.Dense(131, activation='sigmoid')\n",
        "])"
      ],
      "execution_count": 17,
      "outputs": []
    },
    {
      "cell_type": "code",
      "metadata": {
        "id": "9RNN-TsqHiLE"
      },
      "source": [
        "cnn.compile(optimizer='adam',\n",
        "loss='sparse_categorical_crossentropy',\n",
        "metrics=['accuracy'])"
      ],
      "execution_count": 18,
      "outputs": []
    },
    {
      "cell_type": "code",
      "metadata": {
        "colab": {
          "base_uri": "https://localhost:8080/"
        },
        "id": "SCzx6QV1Hl6j",
        "outputId": "db7653ba-0be3-406a-dd5f-bbc4e3b9a219"
      },
      "source": [
        "cnn.fit(X_train, y_train, epochs=3, batch_size=1)"
      ],
      "execution_count": 19,
      "outputs": [
        {
          "output_type": "stream",
          "text": [
            "Epoch 1/3\n",
            "33168/33168 [==============================] - 825s 25ms/step - loss: 1.6459 - accuracy: 0.6114\n",
            "Epoch 2/3\n",
            "33168/33168 [==============================] - 798s 24ms/step - loss: 0.4961 - accuracy: 0.8836\n",
            "Epoch 3/3\n",
            "33168/33168 [==============================] - 826s 25ms/step - loss: 0.4834 - accuracy: 0.9108\n"
          ],
          "name": "stdout"
        },
        {
          "output_type": "execute_result",
          "data": {
            "text/plain": [
              "<tensorflow.python.keras.callbacks.History at 0x7f0cb2e8b990>"
            ]
          },
          "metadata": {
            "tags": []
          },
          "execution_count": 19
        }
      ]
    },
    {
      "cell_type": "code",
      "metadata": {
        "id": "SJk_AydpHqFT",
        "colab": {
          "base_uri": "https://localhost:8080/"
        },
        "outputId": "b8a6c5b3-4060-46fc-acba-aa6fe1af4b11"
      },
      "source": [
        "cnn.evaluate(X_val, y_val)"
      ],
      "execution_count": 20,
      "outputs": [
        {
          "output_type": "stream",
          "text": [
            "445/445 [==============================] - 40s 90ms/step - loss: 0.4149 - accuracy: 0.9275\n"
          ],
          "name": "stdout"
        },
        {
          "output_type": "execute_result",
          "data": {
            "text/plain": [
              "[0.4148562550544739, 0.9274761080741882]"
            ]
          },
          "metadata": {
            "tags": []
          },
          "execution_count": 20
        }
      ]
    },
    {
      "cell_type": "code",
      "metadata": {
        "colab": {
          "base_uri": "https://localhost:8080/",
          "height": 206
        },
        "id": "y0pfOgZfQK13",
        "outputId": "ae67d704-a11b-4c6d-ed33-b9ca8401db15"
      },
      "source": [
        "# Loading the order of the image's name that has been provided\n",
        "test_image_order = pd.read_csv(\"/content/content/fruits_data/Testing_set.csv\")\n",
        "test_image_order.head()"
      ],
      "execution_count": 21,
      "outputs": [
        {
          "output_type": "execute_result",
          "data": {
            "text/html": [
              "<div>\n",
              "<style scoped>\n",
              "    .dataframe tbody tr th:only-of-type {\n",
              "        vertical-align: middle;\n",
              "    }\n",
              "\n",
              "    .dataframe tbody tr th {\n",
              "        vertical-align: top;\n",
              "    }\n",
              "\n",
              "    .dataframe thead th {\n",
              "        text-align: right;\n",
              "    }\n",
              "</style>\n",
              "<table border=\"1\" class=\"dataframe\">\n",
              "  <thead>\n",
              "    <tr style=\"text-align: right;\">\n",
              "      <th></th>\n",
              "      <th>filename</th>\n",
              "    </tr>\n",
              "  </thead>\n",
              "  <tbody>\n",
              "    <tr>\n",
              "      <th>0</th>\n",
              "      <td>Image_1.jpg</td>\n",
              "    </tr>\n",
              "    <tr>\n",
              "      <th>1</th>\n",
              "      <td>Image_2.jpg</td>\n",
              "    </tr>\n",
              "    <tr>\n",
              "      <th>2</th>\n",
              "      <td>Image_3.jpg</td>\n",
              "    </tr>\n",
              "    <tr>\n",
              "      <th>3</th>\n",
              "      <td>Image_4.jpg</td>\n",
              "    </tr>\n",
              "    <tr>\n",
              "      <th>4</th>\n",
              "      <td>Image_5.jpg</td>\n",
              "    </tr>\n",
              "  </tbody>\n",
              "</table>\n",
              "</div>"
            ],
            "text/plain": [
              "      filename\n",
              "0  Image_1.jpg\n",
              "1  Image_2.jpg\n",
              "2  Image_3.jpg\n",
              "3  Image_4.jpg\n",
              "4  Image_5.jpg"
            ]
          },
          "metadata": {
            "tags": []
          },
          "execution_count": 21
        }
      ]
    },
    {
      "cell_type": "code",
      "metadata": {
        "id": "wGHSswe5Qk1v"
      },
      "source": [
        "file_paths = [[fname, '/content/content/fruits_data/test/' + fname] for fname in test_image_order['filename']]"
      ],
      "execution_count": 22,
      "outputs": []
    },
    {
      "cell_type": "code",
      "metadata": {
        "colab": {
          "base_uri": "https://localhost:8080/"
        },
        "id": "FrERp_P_Qqs6",
        "outputId": "033d1f87-8415-4419-cbe0-c878358e3379"
      },
      "source": [
        "# Confirm if number of images is same as number of labels given\n",
        "if len(test_image_order) == len(file_paths):\n",
        "    print('Number of image names i.e. ', len(test_image_order), 'matches the number of file paths i.e. ', len(file_paths))\n",
        "else:\n",
        "    print('Number of image names does not match the number of filepaths')"
      ],
      "execution_count": 23,
      "outputs": [
        {
          "output_type": "stream",
          "text": [
            "Number of image names i.e.  20308 matches the number of file paths i.e.  20308\n"
          ],
          "name": "stdout"
        }
      ]
    },
    {
      "cell_type": "code",
      "metadata": {
        "colab": {
          "base_uri": "https://localhost:8080/",
          "height": 206
        },
        "id": "myo6VSmkQxFk",
        "outputId": "d1347a6e-bac4-4ae2-c630-5c7050818e2a"
      },
      "source": [
        "test_images = pd.DataFrame(file_paths, columns=['filename', 'filepaths'])\n",
        "test_images.head()"
      ],
      "execution_count": 24,
      "outputs": [
        {
          "output_type": "execute_result",
          "data": {
            "text/html": [
              "<div>\n",
              "<style scoped>\n",
              "    .dataframe tbody tr th:only-of-type {\n",
              "        vertical-align: middle;\n",
              "    }\n",
              "\n",
              "    .dataframe tbody tr th {\n",
              "        vertical-align: top;\n",
              "    }\n",
              "\n",
              "    .dataframe thead th {\n",
              "        text-align: right;\n",
              "    }\n",
              "</style>\n",
              "<table border=\"1\" class=\"dataframe\">\n",
              "  <thead>\n",
              "    <tr style=\"text-align: right;\">\n",
              "      <th></th>\n",
              "      <th>filename</th>\n",
              "      <th>filepaths</th>\n",
              "    </tr>\n",
              "  </thead>\n",
              "  <tbody>\n",
              "    <tr>\n",
              "      <th>0</th>\n",
              "      <td>Image_1.jpg</td>\n",
              "      <td>/content/content/fruits_data/test/Image_1.jpg</td>\n",
              "    </tr>\n",
              "    <tr>\n",
              "      <th>1</th>\n",
              "      <td>Image_2.jpg</td>\n",
              "      <td>/content/content/fruits_data/test/Image_2.jpg</td>\n",
              "    </tr>\n",
              "    <tr>\n",
              "      <th>2</th>\n",
              "      <td>Image_3.jpg</td>\n",
              "      <td>/content/content/fruits_data/test/Image_3.jpg</td>\n",
              "    </tr>\n",
              "    <tr>\n",
              "      <th>3</th>\n",
              "      <td>Image_4.jpg</td>\n",
              "      <td>/content/content/fruits_data/test/Image_4.jpg</td>\n",
              "    </tr>\n",
              "    <tr>\n",
              "      <th>4</th>\n",
              "      <td>Image_5.jpg</td>\n",
              "      <td>/content/content/fruits_data/test/Image_5.jpg</td>\n",
              "    </tr>\n",
              "  </tbody>\n",
              "</table>\n",
              "</div>"
            ],
            "text/plain": [
              "      filename                                      filepaths\n",
              "0  Image_1.jpg  /content/content/fruits_data/test/Image_1.jpg\n",
              "1  Image_2.jpg  /content/content/fruits_data/test/Image_2.jpg\n",
              "2  Image_3.jpg  /content/content/fruits_data/test/Image_3.jpg\n",
              "3  Image_4.jpg  /content/content/fruits_data/test/Image_4.jpg\n",
              "4  Image_5.jpg  /content/content/fruits_data/test/Image_5.jpg"
            ]
          },
          "metadata": {
            "tags": []
          },
          "execution_count": 24
        }
      ]
    },
    {
      "cell_type": "code",
      "metadata": {
        "id": "t5yvpP5wQ2G5"
      },
      "source": [
        "test_pixel_data = [] # initialize an empty numpy array\n",
        "image_size = 100 # image size taken is 100 here. one can take other size too\n",
        "for i in range(len(test_images)):\n",
        "\n",
        "    img_array = cv2.imread(test_images['filepaths'][i], cv2.IMREAD_GRAYSCALE) # converting the image to gray scale\n",
        "\n",
        "    new_img_array = cv2.resize(img_array, (image_size, image_size)) # resizing the image array\n",
        "\n",
        "    test_pixel_data.append(new_img_array)"
      ],
      "execution_count": 25,
      "outputs": []
    },
    {
      "cell_type": "code",
      "metadata": {
        "id": "fs0v3S14RJDU"
      },
      "source": [
        "test_pixel_data = np.array(test_pixel_data)"
      ],
      "execution_count": 26,
      "outputs": []
    },
    {
      "cell_type": "code",
      "metadata": {
        "id": "gpcFPlLbROcY"
      },
      "source": [
        "test_pixel_data = test_pixel_data.reshape(-1, 100, 100, 1)"
      ],
      "execution_count": 27,
      "outputs": []
    },
    {
      "cell_type": "code",
      "metadata": {
        "id": "XjeUwSc0RRSl"
      },
      "source": [
        "pred = cnn.predict(test_pixel_data)"
      ],
      "execution_count": 28,
      "outputs": []
    },
    {
      "cell_type": "code",
      "metadata": {
        "colab": {
          "base_uri": "https://localhost:8080/"
        },
        "id": "ceR_WBi6Raq0",
        "outputId": "e759eb4c-0b4d-4b7c-f8cd-d69a790e0083"
      },
      "source": [
        "# The predicted values are the probabilities value\n",
        "pred[0]"
      ],
      "execution_count": 29,
      "outputs": [
        {
          "output_type": "execute_result",
          "data": {
            "text/plain": [
              "array([0.0000000e+00, 0.0000000e+00, 0.0000000e+00, 0.0000000e+00,\n",
              "       0.0000000e+00, 0.0000000e+00, 0.0000000e+00, 0.0000000e+00,\n",
              "       0.0000000e+00, 0.0000000e+00, 0.0000000e+00, 0.0000000e+00,\n",
              "       0.0000000e+00, 0.0000000e+00, 0.0000000e+00, 0.0000000e+00,\n",
              "       0.0000000e+00, 9.0412896e-29, 0.0000000e+00, 0.0000000e+00,\n",
              "       0.0000000e+00, 0.0000000e+00, 0.0000000e+00, 0.0000000e+00,\n",
              "       0.0000000e+00, 0.0000000e+00, 0.0000000e+00, 0.0000000e+00,\n",
              "       0.0000000e+00, 0.0000000e+00, 0.0000000e+00, 0.0000000e+00,\n",
              "       0.0000000e+00, 0.0000000e+00, 0.0000000e+00, 0.0000000e+00,\n",
              "       0.0000000e+00, 0.0000000e+00, 0.0000000e+00, 0.0000000e+00,\n",
              "       0.0000000e+00, 0.0000000e+00, 0.0000000e+00, 0.0000000e+00,\n",
              "       0.0000000e+00, 0.0000000e+00, 0.0000000e+00, 0.0000000e+00,\n",
              "       0.0000000e+00, 0.0000000e+00, 0.0000000e+00, 0.0000000e+00,\n",
              "       0.0000000e+00, 0.0000000e+00, 0.0000000e+00, 0.0000000e+00,\n",
              "       0.0000000e+00, 0.0000000e+00, 0.0000000e+00, 0.0000000e+00,\n",
              "       0.0000000e+00, 0.0000000e+00, 0.0000000e+00, 0.0000000e+00,\n",
              "       0.0000000e+00, 0.0000000e+00, 0.0000000e+00, 0.0000000e+00,\n",
              "       0.0000000e+00, 0.0000000e+00, 0.0000000e+00, 0.0000000e+00,\n",
              "       0.0000000e+00, 0.0000000e+00, 0.0000000e+00, 0.0000000e+00,\n",
              "       0.0000000e+00, 0.0000000e+00, 0.0000000e+00, 0.0000000e+00,\n",
              "       0.0000000e+00, 0.0000000e+00, 0.0000000e+00, 0.0000000e+00,\n",
              "       0.0000000e+00, 0.0000000e+00, 0.0000000e+00, 0.0000000e+00,\n",
              "       0.0000000e+00, 0.0000000e+00, 0.0000000e+00, 0.0000000e+00,\n",
              "       0.0000000e+00, 0.0000000e+00, 0.0000000e+00, 0.0000000e+00,\n",
              "       0.0000000e+00, 0.0000000e+00, 0.0000000e+00, 0.0000000e+00,\n",
              "       0.0000000e+00, 0.0000000e+00, 0.0000000e+00, 0.0000000e+00,\n",
              "       0.0000000e+00, 0.0000000e+00, 0.0000000e+00, 0.0000000e+00,\n",
              "       0.0000000e+00, 0.0000000e+00, 0.0000000e+00, 0.0000000e+00,\n",
              "       0.0000000e+00, 0.0000000e+00, 0.0000000e+00, 0.0000000e+00,\n",
              "       0.0000000e+00, 0.0000000e+00, 0.0000000e+00, 0.0000000e+00,\n",
              "       0.0000000e+00, 0.0000000e+00, 0.0000000e+00, 0.0000000e+00,\n",
              "       0.0000000e+00, 0.0000000e+00, 0.0000000e+00, 0.0000000e+00,\n",
              "       0.0000000e+00, 0.0000000e+00, 0.0000000e+00], dtype=float32)"
            ]
          },
          "metadata": {
            "tags": []
          },
          "execution_count": 29
        }
      ]
    },
    {
      "cell_type": "code",
      "metadata": {
        "id": "jjVu2eIPRpzx"
      },
      "source": [
        "prediction = []\n",
        "for value in pred:\n",
        "    prediction.append(np.argmax(value))"
      ],
      "execution_count": 30,
      "outputs": []
    },
    {
      "cell_type": "code",
      "metadata": {
        "id": "pr_ZGiQTR0pg"
      },
      "source": [
        "predictions = le.inverse_transform(prediction)"
      ],
      "execution_count": 31,
      "outputs": []
    },
    {
      "cell_type": "code",
      "metadata": {
        "colab": {
          "base_uri": "https://localhost:8080/",
          "height": 17
        },
        "id": "JaKz3aAxR6Bb",
        "outputId": "399ac20e-0579-4b49-b971-d301401f1c4b"
      },
      "source": [
        "res = pd.DataFrame({'filename': test_images['filename'], 'label': predictions}) # prediction is nothing but the final predictions of your model on input features of your new unseen test data\n",
        "res.to_csv(\"submission.csv\", index = False)\n",
        "\n",
        "# To download the csv file locally\n",
        "from google.colab import files\n",
        "files.download('submission.csv')"
      ],
      "execution_count": 32,
      "outputs": [
        {
          "output_type": "display_data",
          "data": {
            "application/javascript": [
              "\n",
              "    async function download(id, filename, size) {\n",
              "      if (!google.colab.kernel.accessAllowed) {\n",
              "        return;\n",
              "      }\n",
              "      const div = document.createElement('div');\n",
              "      const label = document.createElement('label');\n",
              "      label.textContent = `Downloading \"${filename}\": `;\n",
              "      div.appendChild(label);\n",
              "      const progress = document.createElement('progress');\n",
              "      progress.max = size;\n",
              "      div.appendChild(progress);\n",
              "      document.body.appendChild(div);\n",
              "\n",
              "      const buffers = [];\n",
              "      let downloaded = 0;\n",
              "\n",
              "      const channel = await google.colab.kernel.comms.open(id);\n",
              "      // Send a message to notify the kernel that we're ready.\n",
              "      channel.send({})\n",
              "\n",
              "      for await (const message of channel.messages) {\n",
              "        // Send a message to notify the kernel that we're ready.\n",
              "        channel.send({})\n",
              "        if (message.buffers) {\n",
              "          for (const buffer of message.buffers) {\n",
              "            buffers.push(buffer);\n",
              "            downloaded += buffer.byteLength;\n",
              "            progress.value = downloaded;\n",
              "          }\n",
              "        }\n",
              "      }\n",
              "      const blob = new Blob(buffers, {type: 'application/binary'});\n",
              "      const a = document.createElement('a');\n",
              "      a.href = window.URL.createObjectURL(blob);\n",
              "      a.download = filename;\n",
              "      div.appendChild(a);\n",
              "      a.click();\n",
              "      div.remove();\n",
              "    }\n",
              "  "
            ],
            "text/plain": [
              "<IPython.core.display.Javascript object>"
            ]
          },
          "metadata": {
            "tags": []
          }
        },
        {
          "output_type": "display_data",
          "data": {
            "application/javascript": [
              "download(\"download_e0e1a530-0bd8-44a1-8fdf-f452327b4e2b\", \"submission.csv\", 556611)"
            ],
            "text/plain": [
              "<IPython.core.display.Javascript object>"
            ]
          },
          "metadata": {
            "tags": []
          }
        }
      ]
    },
    {
      "cell_type": "code",
      "metadata": {
        "id": "XbyiKhgaSG7r"
      },
      "source": [
        ""
      ],
      "execution_count": null,
      "outputs": []
    }
  ]
}